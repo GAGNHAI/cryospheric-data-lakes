{
 "cells": [
  {
   "cell_type": "markdown",
   "metadata": {},
   "source": [
    "# Python 3 script to extract geophysical data from ICESAT HDF5 format files into python numpy-based arrays"
   ]
  },
  {
   "cell_type": "markdown",
   "metadata": {},
   "source": [
    "## Part 0 Load libraries"
   ]
  },
  {
   "cell_type": "code",
   "execution_count": null,
   "metadata": {},
   "outputs": [],
   "source": [
    "#!pip3 install h5py\n",
    "#!pip3 install matplotlib\n",
    "#!pip3 install xarray"
   ]
  },
  {
   "cell_type": "code",
   "execution_count": null,
   "metadata": {},
   "outputs": [],
   "source": [
    "import collections\n",
    "import h5py\n",
    "import matplotlib.pyplot as plt\n",
    "from mpl_toolkits.mplot3d import Axes3D\n",
    "import numpy as np\n",
    "import os\n",
    "import pandas as pd\n",
    "import xarray as xr\n",
    "\n",
    "#print(os.getcwd())\n",
    "os.chdir('/home/atom/alp/data/icesat/GLAH12.034/2003.02.20')\n",
    "print(os.getcwd())"
   ]
  },
  {
   "cell_type": "markdown",
   "metadata": {},
   "source": [
    "## Part 1 Load Data"
   ]
  },
  {
   "cell_type": "markdown",
   "metadata": {},
   "source": [
    "Declare functions that stores the fields we want to retrieve from ICESAT (e.g. xyzt data) and then extract those fields from the HDF5 file into Python formats like Numpy/Pandas/Xarray."
   ]
  },
  {
   "cell_type": "code",
   "execution_count": null,
   "metadata": {},
   "outputs": [],
   "source": [
    "def init_h5_keyDict(h5file, datagroup=\"Data_40HZ\", useAll=False):\n",
    "    '''\n",
    "    Function to pick the fields we want from a HDF5 file.\n",
    "    Currently hardcoded for ICESAT GLAH12 HDF5 files.\n",
    "\n",
    "    Arguments:\n",
    "    h5file -- input data, of type HDF5 https://support.hdfgroup.org/HDF5/whatishdf5.html\n",
    "    datagroup -- the HDF5 data group to look in for ICESAT see https://nsidc.org/data/glas/data-dictionary-glah12\n",
    "    useAll -- Set to True if you want to retrieve all fields in the datagroup, else just get stardard xyzt data\n",
    "\n",
    "    Returns:\n",
    "    fields -- python dictionary with keys (e.g. x, y, z, t) mapped to values (fieldnames within the HDF5 file)\n",
    "    '''\n",
    "    h5 = h5py.File(h5file, \"r\")\n",
    "    assert(isinstance(h5, (h5py._hl.files.File)))\n",
    "\n",
    "    #GLAH12 Product Data Dictionary https://nsidc.org/data/glas/data-dictionary-glah12\n",
    "    #[k for k in h5.keys()]\n",
    "\n",
    "    #%% Retrieve data stored in the hdf5 file using known keys.\n",
    "    [g for g in h5['{0}'.format(datagroup)]]\n",
    "\n",
    "    fields = collections.OrderedDict()\n",
    "    [v.name for v in h5[datagroup].values()]\n",
    "\n",
    "    #Standard parameters\n",
    "    if useAll == False:\n",
    "        fields['i'] = datagroup+'/Time/i_rec_ndx'                 #GLAS Record Index (i)\n",
    "        fields['x'] = datagroup+'/Geolocation/d_lon'              #Longitude         (x)\n",
    "        fields['y'] = datagroup+'/Geolocation/d_lat'              #Latitude          (y)\n",
    "        if datagroup == 'Data_40HZ':\n",
    "            fields['z'] = datagroup+'/Elevation_Surfaces/d_elev'  #Elevation         (z)\n",
    "            fields['t'] = datagroup+'/Time/d_UTCTime_40'          #Timestamp         (t)\n",
    "        elif datagroup == 'Data_1HZ':\n",
    "            fields['k'] = datagroup+'/Geolocation/i_track'        #Track number      (k)\n",
    "            fields['t'] = datagroup+'/Time/d_UTCTime_1'           #Timestamp         (t)\n",
    "\n",
    "    #All other useful-ish parameters\n",
    "    if useAll == True:\n",
    "        def func(name, obj):\n",
    "            if isinstance(obj, h5py.Dataset):\n",
    "                if obj.ndim == 1:\n",
    "                    fields[name] = datagroup+'/'+name\n",
    "                else:\n",
    "                    print(\"Warn: {0} is not one-dimensional, ignoring...\".format(name))\n",
    "        h5[datagroup].visititems(func)\n",
    "\n",
    "    assert(isinstance(fields, dict))\n",
    "    return fields"
   ]
  },
  {
   "cell_type": "code",
   "execution_count": null,
   "metadata": {},
   "outputs": [],
   "source": [
    "def h5_to_pydata(h5file, h5fields):\n",
    "    '''\n",
    "    Function to load data from one HDF5 file to standard Python based formats.\n",
    "    Basically creates an n-dimensional array to store all the data. Do this by stacking each feature (e.g. coordinates/time/other param) using np.stack.\n",
    "\n",
    "    Arguments:\n",
    "    h5file -- input data, of type HDF5 https://support.hdfgroup.org/HDF5/whatishdf5.html\n",
    "    h5fields -- python dictionary containing keys (e.g. x, y, z, t) mapped to values (fieldnames within the HDF5 file)\n",
    "\n",
    "    Returns:\n",
    "    npData  -- numpy.array of shape (n, m) where n is number of fields and m is number of datapoints\n",
    "    pdData -- pandas.DataFrame version of above numpy array, with the time (t) field/column expressed in standard python datetime format\n",
    "    xrData -- xarray.Dataset version of the above pandas.DataFrame which has dimensions (m) and data variables (n)\n",
    "    '''\n",
    "    h5 = h5py.File(h5file, \"r\")\n",
    "    assert(isinstance(h5, (h5py._hl.files.File)))\n",
    "    #h5.name\n",
    "    #h5.libver\n",
    "    #h5.driver\n",
    "\n",
    "    #%% calculate m (number of individual datapoints) so we can do reshapes and assertion checks\n",
    "    dataListShape = [h5[h5fields[key]].shape for key in h5fields.keys()]\n",
    "    assert(np.median(dataListShape) == np.max(dataListShape))  #stupid way to get 'm' which is the no. of individual datapoints\n",
    "    m = np.max(dataListShape) #take m as the largest length\n",
    "\n",
    "    #%% numpy\n",
    "    npData = np.hstack((h5[h5fields[key]][:].reshape(-1,1) for key in h5fields.keys() if h5[h5fields[key]].shape == m)).T\n",
    "    assert(npData.shape == (len(h5fields), m))  #check that final numpy array has shape (n, m) where n is no. of features and m is no. of datapoints e.g. (4, 20000)\n",
    "    npData.shape\n",
    "    npData.ndim\n",
    "    npData.T.ndim\n",
    "\n",
    "    #%% pandas\n",
    "    assert(isinstance(npData, np.ndarray))\n",
    "    pdData = pd.DataFrame(npData.T, columns=h5fields.keys())\n",
    "    pdData['t'] = pd.to_datetime(pdData['t'], unit='s', origin=pd.Timestamp('2000-01-01'), infer_datetime_format=True)  #convert time data into standard python datetime format\n",
    "    assert(isinstance(pdData['t'][0], pd.Timestamp))\n",
    "\n",
    "    #%% xarray\n",
    "    assert(isinstance(pdData, pd.DataFrame))\n",
    "    xrData = pdData.to_xarray()\n",
    "    xrData\n",
    "    assert(isinstance(xrData, xr.Dataset))\n",
    "\n",
    "    return npData, pdData, xrData"
   ]
  },
  {
   "cell_type": "code",
   "execution_count": null,
   "metadata": {},
   "outputs": [],
   "source": [
    "h5fields40hz = init_h5_keyDict(\"GLAH12_634_1102_001_0071_0_01_0001.H5\", datagroup=\"Data_40HZ\", useAll=False)\n",
    "npData, pdData, xrData = h5_to_pydata(\"GLAH12_634_1102_001_0071_0_01_0001.H5\", h5fields40hz)\n",
    "df40 = pdData.loc[:,['x','y','z','i']].loc[lambda df: df.y < 0]  #filter for Antarctica only (South of Equator)"
   ]
  },
  {
   "cell_type": "markdown",
   "metadata": {},
   "source": [
    "Export the data to csv format if we so wish to"
   ]
  },
  {
   "cell_type": "code",
   "execution_count": null,
   "metadata": {},
   "outputs": [],
   "source": [
    "h5fields1hz = init_h5_keyDict(\"GLAH12_634_1102_001_0071_0_01_0001.H5\", datagroup=\"Data_1HZ\", useAll=False)\n",
    "npData, pdData, xrData = h5_to_pydata(\"GLAH12_634_1102_001_0071_0_01_0001.H5\", h5fields1hz)\n",
    "df1 = pdData.loc[:,['x','y','k','i']].loc[lambda df: df.y < 0]  #filter for Antarctica only (South of Equator)"
   ]
  },
  {
   "cell_type": "code",
   "execution_count": null,
   "metadata": {},
   "outputs": [],
   "source": [
    "df = df40\n",
    "#pdData.to_csv(\"/home/atom/alp/code/scripts/pdData.csv\")   #export Greenland and Antarctic data\n",
    "#df.to_csv(\"/home/atom/alp/code/scripts/pdData.csv\")       #export Antarctic data (South of Equator) only"
   ]
  },
  {
   "cell_type": "markdown",
   "metadata": {},
   "source": [
    "## Part 2 Plot those datapoints!!"
   ]
  },
  {
   "cell_type": "code",
   "execution_count": null,
   "metadata": {},
   "outputs": [],
   "source": [
    "#%matplotlib notebook\n",
    "%matplotlib inline"
   ]
  },
  {
   "cell_type": "code",
   "execution_count": null,
   "metadata": {},
   "outputs": [],
   "source": [
    "#old_settings = np.seterr()\n",
    "#np.seterr(all='ignore')\n",
    "#np.seterr(**old_settings)"
   ]
  },
  {
   "cell_type": "markdown",
   "metadata": {},
   "source": [
    "### Matplotlib 2D"
   ]
  },
  {
   "cell_type": "code",
   "execution_count": null,
   "metadata": {},
   "outputs": [],
   "source": [
    "plt.scatter(pdData.loc[:,['x']], pdData.loc[:,['y']]); #2d plot, will show Greenland on top right and Antarctica at the bottom\n",
    "plt.show()\n",
    "plt.scatter(df.loc[:,['x']], df.loc[:,['y']]); #2d plot, showing data for Antarctica\n",
    "plt.show()"
   ]
  },
  {
   "cell_type": "markdown",
   "metadata": {},
   "source": [
    "### Matplotlib 3D"
   ]
  },
  {
   "cell_type": "code",
   "execution_count": null,
   "metadata": {},
   "outputs": [],
   "source": [
    "fig = plt.figure()\n",
    "ax = fig.add_subplot(111, projection='3d')\n",
    "ax.set_xlabel('X Label')\n",
    "ax.set_ylabel('Y Label')\n",
    "ax.set_zlabel('Z Label')\n",
    "mi=10000\n",
    "x=df.loc[:mi,['x']]\n",
    "y=df.loc[:mi,['y']]\n",
    "z=df.loc[:mi,['z']]\n",
    "ax.scatter(x, y, z, c=z, cmap=plt.cm.jet, zdir='z', s=2)\n",
    "fig;"
   ]
  },
  {
   "cell_type": "code",
   "execution_count": null,
   "metadata": {},
   "outputs": [],
   "source": [
    "#%% Matplotlib 3D surface plot https://gis.stackexchange.com/a/66440/78212\n",
    "#ax = fig.add_subplot(111, projection='3d')\n",
    "#ax.plot_surface(x,y,z)\n",
    "#ax.contour(x,y,z)\n",
    "#fig;"
   ]
  },
  {
   "cell_type": "markdown",
   "metadata": {},
   "source": [
    "\n",
    "### ipyleaflet"
   ]
  },
  {
   "cell_type": "code",
   "execution_count": null,
   "metadata": {},
   "outputs": [],
   "source": [
    "#!pip3 install ipyleaflet\n",
    "#!jupyter nbextension enable --py ipyleaflet\n",
    "#!jupyter nbextension enable --py --sys-prefix ipyleaflet\n",
    "import ipyleaflet\n",
    "print(ipyleaflet.__version__)"
   ]
  },
  {
   "cell_type": "code",
   "execution_count": null,
   "metadata": {
    "scrolled": true
   },
   "outputs": [],
   "source": [
    "ipyleaflet.Map(center=[-77.84651, 166.75710], zoom=2)"
   ]
  },
  {
   "cell_type": "markdown",
   "metadata": {},
   "source": [
    "### ipyvolume"
   ]
  },
  {
   "cell_type": "code",
   "execution_count": null,
   "metadata": {},
   "outputs": [],
   "source": [
    "#!pip3 install ipyvolume\n",
    "#!jupyter nbextension enable --py ipyvolume\n",
    "#jupyter nbextension enable --py --sys-prefix ipyvolume\n",
    "import ipyvolume as ipv\n",
    "print(ipv.__version__)"
   ]
  },
  {
   "cell_type": "code",
   "execution_count": null,
   "metadata": {},
   "outputs": [],
   "source": []
  },
  {
   "cell_type": "code",
   "execution_count": null,
   "metadata": {},
   "outputs": [],
   "source": [
    "# If a blank box shows up, see https://superuser.com/questions/836832/how-can-i-enable-webgl-in-my-browser\n",
    "ipv.quickscatter(x.values.flatten(), y.values.flatten(), z.values.flatten(), size=100000, marker=\"sphere\")"
   ]
  },
  {
   "cell_type": "markdown",
   "metadata": {},
   "source": [
    "### Folium"
   ]
  },
  {
   "cell_type": "code",
   "execution_count": null,
   "metadata": {},
   "outputs": [],
   "source": [
    "#!pip3 install folium\n",
    "import folium\n",
    "print(folium.__version__)"
   ]
  },
  {
   "cell_type": "code",
   "execution_count": null,
   "metadata": {},
   "outputs": [],
   "source": [
    "#%%timeit\n",
    "map_osm = folium.Map(location=[-77.84651, 166.75710], zoom_start=3)\n",
    "df.loc[0:100].apply(lambda row:folium.CircleMarker(location=[row['y'], row[\"x\"]], popup=str(row['k']), radius=5).add_to(map_osm), axis=1)\n",
    "map_osm"
   ]
  },
  {
   "cell_type": "code",
   "execution_count": null,
   "metadata": {},
   "outputs": [],
   "source": [
    "1.52 s ± 6.52 ms per loop (mean ± std. dev. of 7 runs, 1 loop each)"
   ]
  },
  {
   "cell_type": "code",
   "execution_count": null,
   "metadata": {},
   "outputs": [],
   "source": []
  },
  {
   "cell_type": "markdown",
   "metadata": {},
   "source": [
    "### laspy"
   ]
  },
  {
   "cell_type": "code",
   "execution_count": null,
   "metadata": {},
   "outputs": [],
   "source": [
    "#!pip3 install laspy\n",
    "import laspy\n",
    "print(laspy.__version__)"
   ]
  },
  {
   "cell_type": "code",
   "execution_count": null,
   "metadata": {},
   "outputs": [],
   "source": [
    "header = laspy.header.Header()\n",
    "outfile = laspy.file.File(\"/home/atom/alp/code/scripts/output.las\", mode=\"w\", header=header)\n",
    "\n",
    "allx = df.loc[:,['x']].values.flatten()\n",
    "ally = df.loc[:,['y']].values.flatten()\n",
    "allz = df.loc[:,['z']].values.flatten()\n",
    "\n",
    "xmin = np.floor(np.min(allx))\n",
    "ymin = np.floor(np.min(ally))\n",
    "zmin = np.floor(np.min(allz))\n",
    "\n",
    "outfile.header.offset = [xmin,ymin,zmin]\n",
    "outfile.header.scale = [0.001,0.001,0.001]\n",
    "\n",
    "outfile.x = allx\n",
    "outfile.y = ally\n",
    "outfile.z = allz\n",
    "\n",
    "outfile.close()"
   ]
  },
  {
   "cell_type": "code",
   "execution_count": null,
   "metadata": {},
   "outputs": [],
   "source": [
    "# %%\n",
    "latvar = f['/Data_1HZ/Geolocation/d_lat']\n",
    "latitude = latvar[:]\n",
    "lat_vr = [latvar.attrs['valid_min'], latvar.attrs['valid_max']]\n",
    "\n",
    "lonvar = f['/Data_1HZ/Geolocation/d_lon']\n",
    "longitude = lonvar[:]\n",
    "lon_vr = [lonvar.attrs['valid_min'], lonvar.attrs['valid_max']]\n",
    "\n",
    "latlon = np.dstack((latvar, lonvar))"
   ]
  },
  {
   "cell_type": "code",
   "execution_count": null,
   "metadata": {},
   "outputs": [],
   "source": [
    "def h5_treeview(h5file):\n",
    "        assert isinstance(h5file, (h5py._hl.files.File))\n",
    "\n",
    "        for k1 in sorted(h5file.keys()):\n",
    "            print(k1)\n",
    "            for k2 in f[k1]:\n",
    "                print(\"'--\", k2)\n",
    "\n",
    "h5_treeview(f)\n",
    "f['ANCILLARY_DATA']\n",
    "\n",
    "f[datagroup].visititems(lambda name, object: print(name.count('/')*\"    \"+\"'--\"+name, object))\n",
    "f[datagroup].visititems(lambda name, object: (None))"
   ]
  }
 ],
 "metadata": {
  "kernelspec": {
   "display_name": "Python 3",
   "language": "python",
   "name": "python3"
  },
  "language_info": {
   "codemirror_mode": {
    "name": "ipython",
    "version": 3
   },
   "file_extension": ".py",
   "mimetype": "text/x-python",
   "name": "python",
   "nbconvert_exporter": "python",
   "pygments_lexer": "ipython3",
   "version": "3.5.4"
  }
 },
 "nbformat": 4,
 "nbformat_minor": 2
}
